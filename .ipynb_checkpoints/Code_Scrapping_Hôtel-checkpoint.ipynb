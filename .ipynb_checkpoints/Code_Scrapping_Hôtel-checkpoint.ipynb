{
 "cells": [
  {
   "cell_type": "markdown",
   "metadata": {},
   "source": [
    "# My Scrapping"
   ]
  },
  {
   "cell_type": "code",
   "execution_count": 5,
   "metadata": {},
   "outputs": [],
   "source": [
    "from urllib.request import urlopen as uReq\n",
    "import bs4\n",
    "from bs4 import BeautifulSoup as soup"
   ]
  },
  {
   "cell_type": "code",
   "execution_count": 6,
   "metadata": {},
   "outputs": [],
   "source": [
    "# Hotel  (charger les url des autres pages d'hôtels...)\n",
    "my_url = 'https://www.booking.com/reviews/cm/hotel/residence-des-lilas.fr.html?label=gen173nr-1FCCooMEIHeWFvdW5kZUgNWARoMIgBAZgBDbgBF8gBDNgBAegBAfgBAogCAagCA7gC4e6_hAbAAgHSAiQ4MzY2YjUxNy00ZjNhLTQ0NmQtYWRmOC1jNjUxZGMzNjVmMWHYAgXgAgE;sid=d4ca926056a06d88e680aa868f5b5ec5'"
   ]
  },
  {
   "cell_type": "code",
   "execution_count": 7,
   "metadata": {},
   "outputs": [
    {
     "data": {
      "text/plain": [
       "27"
      ]
     },
     "execution_count": 7,
     "metadata": {},
     "output_type": "execute_result"
    }
   ],
   "source": [
    "uClient = uReq(my_url)     # ouverture de la connexion\n",
    "page_html = uClient.read()  # Saisie/accaparemment de la page html\n",
    "page_soup = soup(page_html,\"html.parser\") # html parsing (analyse de la page html)\n",
    "containers = page_soup.find_all(\"div\",{\"class\":\"review_item_review_container lang_ltr\"}) #recherche de tous les div dont la classe est... (utiliser sublime text pour une meilleure visualisation du code html de la page)\n",
    "filename = \"project_scrapping.csv\" #création du fichier qui va contenir les informations qui seront extraites\n",
    "f = open(filename,\"w\",encoding=\"UTF-8\") #ouverture du fichier\n",
    "headers = \"note; resume; commentaires\\n\" #entête du fichier\n",
    "f.write(headers)"
   ]
  },
  {
   "cell_type": "code",
   "execution_count": null,
   "metadata": {},
   "outputs": [],
   "source": [
    "containers"
   ]
  },
  {
   "cell_type": "code",
   "execution_count": 4,
   "metadata": {},
   "outputs": [
    {
     "name": "stdout",
     "output_type": "stream",
     "text": [
      "note: 8,0;\n",
      "resume: Agréable et reposant;\n",
      "Commentaire: Absence de groupe électrogène pour faire face au coupure de courant en cas d'orage\n",
      "Commentaire: Commentaire au nom de ma cousine qui a utilisé le logement: Propre, grand appartement et très bien équipé. Bien placé et au calme.\n",
      "note: 8,0;\n",
      "resume: Idéal pour retour se ressourcer après une mission de terrain.;\n",
      "Commentaire: Endroit très calme et parfait pour travailler au retour d'une mission de terrain, disposant de tout l'équipement nécessaire.\n",
      "note: 9,0;\n",
      "resume:  Fabuleux  ;\n",
      "Commentaire: RAS.\n",
      "Commentaire: Leux propre et convivial. Avec tout ce qu'il faut pour un court séjour seul ou en famille.\n",
      "note: 7,0;\n",
      "resume:  Bien  ;\n",
      "Commentaire: a part l'emplacement tout était parfait\n",
      "Commentaire: L' appartement était grande bien meuble, luxurieux tous les Equipements figurants dans l 'annonce y figuraient et l' accueil était de bonne qualité. L’emplacement seul  ne nous convenait pas. Mais pour un séjour en amoureux c'est l\" appartement idéal.\n",
      "note: 9,6;\n",
      "resume: Belle résidence à Yaoundé ;\n",
      "Commentaire: La résidence ne dispose pas d'enseigne ou écriteau pour indiquer sa position.\n",
      "Commentaire: Cet établissement, bien que un peu éloigné du centre ville, est comfortable luxueux et bien entretenu. Le proprio Adolphe est d'une amabilité et serviabilité exemplaire. Les conciérges Emmanuel et René sont toujours à l'écoute et au service des clients. Bravo.\n",
      "note: 9,2;\n",
      "resume: Séjour très agréable ;\n",
      "Commentaire: Très  bon séjour à  yaounde chez Mr Antoine Immeuble récent, très propre.  Personnel disponible et toujours de bonne humeur  Quartier sécurisé et proche du centre ville Navette aéroport  et location voiture  sur conseil du propriétaire.  Bon séjour  avec notre chauffeur souleymane. \n",
      "note: 8,3;\n",
      "resume: excellent;\n",
      "Commentaire: lieu calme et sécurisé\n",
      "note: 9,6;\n",
      "resume: Les plus des lilas;\n",
      "Commentaire: La dispostion du parking\n",
      "Commentaire: La propreté....l'État des meubles ...les toilettes ...surtout la tranquillité\n",
      "note: 7,1;\n",
      "resume:  Bien  ;\n",
      "Commentaire: Manque de restaurant\n",
      "Commentaire: L'accueil\n",
      "note: 8,3;\n",
      "resume: Merci beaucoup de votre accueil;\n",
      "Commentaire: La prise en charge dès l'aéroport, la gentillesse du chauffeur, la disponibilité du propriétaire Mr Adolphe et Emmanuel le gardien qui était à l'écoute toujours près à rendre service et toujours avec le sourire.\n",
      "note: 8,3;\n",
      "resume: Agréable;\n",
      "Commentaire: La qualité des images\n",
      "Commentaire: La cuisine\n",
      "note: 8,3;\n",
      "resume: Nous y reviendrons;\n",
      "Commentaire: Tout était bien.  Juste des oreillers  durs. On ne s'en pas servi.\n",
      "note: 9,2;\n",
      "resume:  Fabuleux  ;\n",
      "Commentaire: Environnement très calme. Appartement propre et confortable. \n",
      "note: 9,2;\n",
      "resume:  Fabuleux  ;\n",
      "Commentaire: J'ai oublié un câble de mon téléphone malheureusement aucun appel pour me dire que j'ai oublié quelque chose.\n",
      "Commentaire: Confort-propreté-le calme du site vraiment excellent \n",
      "note: 10;\n",
      "resume: Magnifique Sejour avec le confort;\n",
      "Commentaire: J'ai tout apprécié\n",
      "Commentaire: Tout etait vraiment cool. Le personnel très accueillant... Et aussi à la cuisine je ne m'attendais pas à tout ce confort. Donc j'ai été vraiment satisfaite !!\n",
      "note: 10;\n",
      "resume:  Exceptionnel ;\n",
      "Commentaire: Emplacement et accueil impeccables.  Appartement spacieux propre et confortable.  Bien équipé  Les gardiens sont aussi dévoués que gentils \n",
      "note: 10;\n",
      "resume:  Exceptionnel ;\n",
      "Commentaire: Monsieur très gentil  Et honnête  Super appartement \n",
      "note: 10;\n",
      "resume: Le rapport qualité prix était excellent.;\n",
      "Commentaire: Le fait qu'il y ait un ballon d'eau permettant d'avoir autant de l'eau froide que de l'eau chaude\n",
      "note: 10;\n",
      "resume:  Exceptionnel ;\n",
      "Commentaire: La tranquillité. L’accueil. L’attention du propriétaire. \n",
      "note: 5,4;\n",
      "resume: Passable;\n",
      "Commentaire: La connection internet est nulle\n",
      "Commentaire: Frigo non fonctionnel Un peu de moustique\n",
      "note: 10;\n",
      "resume:  Exceptionnel ;\n",
      "Commentaire: Problème de réseau téléphonique dans la zone. Mais l'établissement n'y est pour rien \n",
      "Commentaire: Propreté impeccable \n",
      "note: 6,7;\n",
      "resume: Bon établissement et accueil mais dans un quartier à risques.;\n",
      "Commentaire: Le ménage\n",
      "Commentaire: les appareils de télévision\n",
      "note: 10;\n",
      "resume: Lilas the best;\n",
      "Commentaire: Honnêtement j'ai été entièrement satisfaite. Une suggestion c'est peut être de penser à mettre un slipt au salon en cas de forte chaleur mais toutes les chambres ont le slipt.très franchement c'est un lieu propre, reposant, accueillant et avenant. Je le conseille à tout le monde .c'est vraiment la bonne adresse\n",
      "Commentaire: La propreté, le rapport qualité prix, le calme, c'est très spacieux, eau chaude et eau froide et le sens du détail\n",
      "note: 10;\n",
      "resume: Super bien;\n",
      "Commentaire: Rien. Tout était parfaitement nickel. \n",
      "Commentaire: Le confort., la propreté,les prix. \n"
     ]
    }
   ],
   "source": [
    "for container in containers:\n",
    "    note = container.span.span.text.strip() #récupération de la note\n",
    "    comments = container.findAll(\"span\",{\"itemprop\":\"reviewBody\"})# \"dictionnaire\" de commentaires \n",
    "    resume = container.findAll(\"span\",{\"itemprop\":\"name\"}) #récupération du résumé\n",
    "    print(\"note: \" + note + ';' )\n",
    "    print(\"resume: \" + resume[0].text.replace('\\n',' ') + ';')\n",
    "    if (len(comments)==0):\n",
    "        f.write(note + ';' + resume[0].text.replace('\\n',' ') + ';' + '\\n')\n",
    "    else:\n",
    "        f.write(note + ';' + resume[0].text.replace('\\n',' ') + ';')\n",
    "    for comment in comments:# Il peut y avoir plusieurs commentaires\n",
    "        Commentaire = comment.text.replace('\\r',' ').replace('\\n',' ')\n",
    "        print(\"Commentaire: \" + Commentaire)\n",
    "        f.write( ' ' + Commentaire + \"\\n\")\n",
    "f.close() #fermeture du fichier"
   ]
  },
  {
   "cell_type": "markdown",
   "metadata": {},
   "source": [
    "# Great Job\n",
    "## Continue..."
   ]
  },
  {
   "cell_type": "markdown",
   "metadata": {},
   "source": [
    "## Foncion permettant de scrapper les commentaires sur le site booking.com à partir de l' url du site"
   ]
  },
  {
   "cell_type": "code",
   "execution_count": 2,
   "metadata": {},
   "outputs": [
    {
     "ename": "SyntaxError",
     "evalue": "invalid syntax (<ipython-input-2-9ed140ac96c1>, line 1)",
     "output_type": "error",
     "traceback": [
      "\u001b[0;36m  File \u001b[0;32m\"<ipython-input-2-9ed140ac96c1>\"\u001b[0;36m, line \u001b[0;32m1\u001b[0m\n\u001b[0;31m    def Extract-comments(url):\u001b[0m\n\u001b[0m               ^\u001b[0m\n\u001b[0;31mSyntaxError\u001b[0m\u001b[0;31m:\u001b[0m invalid syntax\n"
     ]
    }
   ],
   "source": [
    "def Extract-comments(url):\n",
    "    from urllib.request import urlopen as uReq\n",
    "    import bs4\n",
    "    from bs4 import BeautifulSoup as soup\n",
    "    \n",
    "    \n",
    "    my_url = url\n",
    "    \n",
    "    uClient = uReq(my_url)     # ouverture de la connexion\n",
    "    page_html = uClient.read()  # Saisie/accaparemment de la page html\n",
    "    page_soup = soup(page_html,\"html.parser\") # html parsing (analyse de la page html)\n",
    "    containers = page_soup.find_all(\"div\",{\"class\":\"review_item_review_container lang_ltr\"}) #recherche de tous les div dont la classe est... (utiliser sublime text pour une meilleure visualisation du code html de la page)\n",
    "    filename = \"project_scrapping.csv\" #création du fichier qui va contenir les informations qui seront extraites\n",
    "    f = open(filename,\"w\",encoding=\"UTF-8\") #ouverture du fichier\n",
    "    headers = \"note; resume; commentaires\\n\" #entête du fichier\n",
    "    f.write(headers)\n",
    "    \n",
    "    \n",
    "    #recuperons les commentaires et mettons les dans un fichier\n",
    "    for container in containers:\n",
    "    note = container.span.span.text.strip() #récupération de la note\n",
    "    comments = container.findAll(\"span\",{\"itemprop\":\"reviewBody\"})# \"dictionnaire\" de commentaires \n",
    "    resume = container.findAll(\"span\",{\"itemprop\":\"name\"}) #récupération du résumé\n",
    "    print(\"note: \" + note + ';' )\n",
    "    print(\"resume: \" + resume[0].text.replace('\\n',' ') + ';')\n",
    "    if (len(comments)==0):\n",
    "        f.write(note + ';' + resume[0].text.replace('\\n',' ') + ';' + '\\n')\n",
    "    else:\n",
    "        f.write(note + ';' + resume[0].text.replace('\\n',' ') + ';')\n",
    "    for comment in comments:# Il peut y avoir plusieurs commentaires\n",
    "        Commentaire = comment.text.replace('\\r',' ').replace('\\n',' ')\n",
    "        print(\"Commentaire: \" + Commentaire)\n",
    "        f.write( ' ' + Commentaire + \"\\n\")\n",
    "    f.close() #fermeture du fichier"
   ]
  },
  {
   "cell_type": "code",
   "execution_count": null,
   "metadata": {},
   "outputs": [],
   "source": []
  }
 ],
 "metadata": {
  "kernelspec": {
   "display_name": "Python 3",
   "language": "python",
   "name": "python3"
  },
  "language_info": {
   "codemirror_mode": {
    "name": "ipython",
    "version": 3
   },
   "file_extension": ".py",
   "mimetype": "text/x-python",
   "name": "python",
   "nbconvert_exporter": "python",
   "pygments_lexer": "ipython3",
   "version": "3.8.8"
  }
 },
 "nbformat": 4,
 "nbformat_minor": 4
}
