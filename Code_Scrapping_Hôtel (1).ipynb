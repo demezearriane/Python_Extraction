{
 "cells": [
  {
   "cell_type": "code",
   "execution_count": 143,
   "metadata": {},
   "outputs": [
    {
     "data": {
      "text/html": [
       "<div id=\"my_id_menu_nb\">run previous cell, wait for 2 seconds</div>\n",
       "<script>\n",
       "function repeat_indent_string(n){\n",
       "    var a = \"\" ;\n",
       "    for ( ; n > 0 ; --n)\n",
       "        a += \"    \";\n",
       "    return a;\n",
       "}\n",
       "// look up into all sections and builds an automated menu //\n",
       "var update_menu_string = function(begin, lfirst, llast, sformat, send, keep_item, begin_format, end_format) {\n",
       "    var anchors = document.getElementsByClassName(\"section\");\n",
       "    if (anchors.length == 0) {\n",
       "        anchors = document.getElementsByClassName(\"text_cell_render rendered_html\");\n",
       "    }\n",
       "    var i,t;\n",
       "    var text_menu = begin;\n",
       "    var text_memo = \"<pre>\\nlength:\" + anchors.length + \"\\n\";\n",
       "    var ind = \"\";\n",
       "    var memo_level = 1;\n",
       "    var href;\n",
       "    var tags = [];\n",
       "    var main_item = 0;\n",
       "    var format_open = 0;\n",
       "    for (i = 0; i <= llast; i++)\n",
       "        tags.push(\"h\" + i);\n",
       "\n",
       "    for (i = 0; i < anchors.length; i++) {\n",
       "        text_memo += \"**\" + anchors[i].id + \"--\\n\";\n",
       "\n",
       "        var child = null;\n",
       "        for(t = 0; t < tags.length; t++) {\n",
       "            var r = anchors[i].getElementsByTagName(tags[t]);\n",
       "            if (r.length > 0) {\n",
       "child = r[0];\n",
       "break;\n",
       "            }\n",
       "        }\n",
       "        if (child == null) {\n",
       "            text_memo += \"null\\n\";\n",
       "            continue;\n",
       "        }\n",
       "        if (anchors[i].hasAttribute(\"id\")) {\n",
       "            // when converted in RST\n",
       "            href = anchors[i].id;\n",
       "            text_memo += \"#1-\" + href;\n",
       "            // passer à child suivant (le chercher)\n",
       "        }\n",
       "        else if (child.hasAttribute(\"id\")) {\n",
       "            // in a notebook\n",
       "            href = child.id;\n",
       "            text_memo += \"#2-\" + href;\n",
       "        }\n",
       "        else {\n",
       "            text_memo += \"#3-\" + \"*\" + \"\\n\";\n",
       "            continue;\n",
       "        }\n",
       "        var title = child.textContent;\n",
       "        var level = parseInt(child.tagName.substring(1,2));\n",
       "\n",
       "        text_memo += \"--\" + level + \"?\" + lfirst + \"--\" + title + \"\\n\";\n",
       "\n",
       "        if ((level < lfirst) || (level > llast)) {\n",
       "            continue ;\n",
       "        }\n",
       "        if (title.endsWith('¶')) {\n",
       "            title = title.substring(0,title.length-1).replace(\"<\", \"&lt;\")\n",
       "         .replace(\">\", \"&gt;\").replace(\"&\", \"&amp;\");\n",
       "        }\n",
       "        if (title.length == 0) {\n",
       "            continue;\n",
       "        }\n",
       "\n",
       "        while (level < memo_level) {\n",
       "            text_menu += end_format + \"</ul>\\n\";\n",
       "            format_open -= 1;\n",
       "            memo_level -= 1;\n",
       "        }\n",
       "        if (level == lfirst) {\n",
       "            main_item += 1;\n",
       "        }\n",
       "        if (keep_item != -1 && main_item != keep_item + 1) {\n",
       "            // alert(main_item + \" - \" + level + \" - \" + keep_item);\n",
       "            continue;\n",
       "        }\n",
       "        while (level > memo_level) {\n",
       "            text_menu += \"<ul>\\n\";\n",
       "            memo_level += 1;\n",
       "        }\n",
       "        text_menu += repeat_indent_string(level-2);\n",
       "        text_menu += begin_format + sformat.replace(\"__HREF__\", href).replace(\"__TITLE__\", title);\n",
       "        format_open += 1;\n",
       "    }\n",
       "    while (1 < memo_level) {\n",
       "        text_menu += end_format + \"</ul>\\n\";\n",
       "        memo_level -= 1;\n",
       "        format_open -= 1;\n",
       "    }\n",
       "    text_menu += send;\n",
       "    //text_menu += \"\\n\" + text_memo;\n",
       "\n",
       "    while (format_open > 0) {\n",
       "        text_menu += end_format;\n",
       "        format_open -= 1;\n",
       "    }\n",
       "    return text_menu;\n",
       "};\n",
       "var update_menu = function() {\n",
       "    var sbegin = \"\";\n",
       "    var sformat = '<a href=\"#__HREF__\">__TITLE__</a>';\n",
       "    var send = \"\";\n",
       "    var begin_format = '<li>';\n",
       "    var end_format = '</li>';\n",
       "    var keep_item = -1;\n",
       "    var text_menu = update_menu_string(sbegin, 2, 4, sformat, send, keep_item,\n",
       "       begin_format, end_format);\n",
       "    var menu = document.getElementById(\"my_id_menu_nb\");\n",
       "    menu.innerHTML=text_menu;\n",
       "};\n",
       "window.setTimeout(update_menu,2000);\n",
       "            </script>"
      ],
      "text/plain": [
       "<IPython.core.display.HTML object>"
      ]
     },
     "execution_count": 143,
     "metadata": {},
     "output_type": "execute_result"
    }
   ],
   "source": [
    "from jyquickhelper import add_notebook_menu\n",
    "add_notebook_menu()"
   ]
  },
  {
   "cell_type": "markdown",
   "metadata": {},
   "source": [
    "# I. Extaction des avis"
   ]
  },
  {
   "cell_type": "markdown",
   "metadata": {},
   "source": [
    "## 1. Extraction des avis sur booking.com"
   ]
  },
  {
   "cell_type": "code",
   "execution_count": 23,
   "metadata": {},
   "outputs": [],
   "source": [
    "from urllib.request import urlopen as uReq\n",
    "import bs4\n",
    "from bs4 import BeautifulSoup as soup"
   ]
  },
  {
   "cell_type": "markdown",
   "metadata": {},
   "source": [
    "### a. Fonction permettant l'extraction des donnees"
   ]
  },
  {
   "cell_type": "code",
   "execution_count": 6,
   "metadata": {},
   "outputs": [],
   "source": [
    "def Extract_comments(url, nom_fich):\n",
    "    \"\"\"Fonction permettent d'extraires les avis de client sur boking.com.\n",
    "    Elle prend en paramettre l'url du site à scrpper et le no, de fichier\n",
    "    dans lequel sera stocker les avis recupérer sur le site\"\"\"\n",
    "    \n",
    "    from urllib.request import urlopen as uReq\n",
    "    import bs4\n",
    "    from bs4 import BeautifulSoup as soup\n",
    "    \n",
    "    \n",
    "    uClient = uReq(url)     # ouverture de la connexion\n",
    "    page_html = uClient.read()  # Saisie/accaparemment de la page html\n",
    "    page_soup = soup(page_html,\"html.parser\") # html parsing (analyse de la page html)\n",
    "    containers = page_soup.find_all(\"div\",{\"class\":\"review_item_review_container lang_ltr\"}) #recherche de tous les div dont la classe est... (utiliser sublime text pour une meilleure visualisation du code html de la page)\n",
    "    filename = nom_fich+\".csv\" #création du fichier qui va contenir les informations qui seront extraites\n",
    "    f = open(filename,\"w\",encoding=\"UTF-8\") #ouverture du fichier\n",
    "    headers = \"note; resume; commentaires\\n\" #entête du fichier\n",
    "    f.write(headers)\n",
    "    \n",
    "    #Chargement des donnees dans le fichier\n",
    "    for container in containers:\n",
    "        note = container.span.span.text.strip().replace(',','.') #récupération de la note\n",
    "        comments = container.findAll(\"span\",{\"itemprop\":\"reviewBody\"})# \"dictionnaire\" de commentaires \n",
    "        resume = container.findAll(\"span\",{\"itemprop\":\"name\"}) #récupération du résumé\n",
    "        print(\"note: \" + note + ';' )\n",
    "        print(\"resume: \" + resume[0].text.replace('\\n',' ') + ';')\n",
    "        \n",
    "        if (len(comments)==0):\n",
    "            f.write('\\n' + note + ';' + resume[0].text.replace('\\n',' ') + ';' + '\\n')\n",
    "        else:\n",
    "            f.write('\\n' + note + ';' + resume[0].text.replace('\\n',' ') + ';')\n",
    "        for comment in comments:# Il peut y avoir plusieurs commentaires\n",
    "            Commentaire = comment.text.replace('\\r',' ').replace('\\n',' ').replace(';',',')\n",
    "            print(\"Commentaire: \" + Commentaire)\n",
    "            f.write( ' ' + Commentaire + \"|\")\n",
    "    f.close() #fermeture du fichier"
   ]
  },
  {
   "cell_type": "markdown",
   "metadata": {},
   "source": [
    "Apperçu des données extrait"
   ]
  },
  {
   "cell_type": "code",
   "execution_count": 7,
   "metadata": {},
   "outputs": [
    {
     "name": "stdout",
     "output_type": "stream",
     "text": [
      "note: 8.0;\n",
      "resume:  Très bien ;\n",
      "Commentaire: Les coupures  d'électricité \n",
      "Commentaire: Le personnel est très accueillant et très sympathique \n",
      "note: 8.0;\n",
      "resume: Confortable et gentillesse du personnelle;\n",
      "Commentaire: Pas de wifi. \n",
      "Commentaire: Emplacement et le calme et la gentillesse et acceuil du personnel\n",
      "note: 9.0;\n",
      "resume: Magnifique....;\n",
      "Commentaire: RAS\n",
      "Commentaire: L'accueil, l'hygiène et le cadre de logement proposé.\n",
      "note: 8.0;\n",
      "resume: c'était\" perfect.\";\n",
      "Commentaire: les chaines du cable n étais pas accessibles, mais j accorde un bénéfice du doute parce qu il y avait TMC.\n",
      "Commentaire: j'ai dormie comme un ange. le lit est super confortable. la cuisine m a tellement plu que j en vuex une chez moi/ et le design de la maison, une harmonie sans pareil. j ai eu à visiter et à séjourner dans des coins mais celui-ci m'a grave ravi.\n",
      "note: 7.0;\n",
      "resume:  Bien  ;\n",
      "Commentaire: pourrais mieux faire, problème d'évacuation de l 'eau de douche…. propreté à revoir.\n",
      "note: 7.1;\n",
      "resume: Agréable!;\n",
      "Commentaire: Mettre un groupe électrogène\n",
      "Commentaire: L'appartement était loin, le repas n'était pas inclus.\n",
      "note: 8.8;\n",
      "resume:  Très bien ;\n",
      "Commentaire: La gérante est vraiment sympa et de contact agréable. On se sent très vite à l'aise car bien accueilli. En plus, elle est toujours disponible pour le moindre service dont on a besoin. \n",
      "note: 7.1;\n",
      "resume: tout etait bien en principe,sauf qu'il faudrait penser à incorporer la connexion canal dans le prix;\n",
      "Commentaire: le manque d'images de télévision.\n",
      "note: 8.0;\n",
      "resume: Premier séjour résidence H;\n",
      "Commentaire: L'accueil et l'installation..ça pris un peu de temps ...aussi le parking un peu limite limite \n",
      "Commentaire: Le confort ....la propreté..les installations \n",
      "note: 9.2;\n",
      "resume:  Fabuleux  ;\n"
     ]
    }
   ],
   "source": [
    "my_url = 'https://www.booking.com/reviews/cm/hotel/residence-h.fr.html?label=gen173nr-1FCCooMEIHeWFvdW5kZUgNWARoMIgBAZgBDbgBF8gBDNgBAegBAfgBAogCAagCA7gC4e6_hAbAAgHSAiQ4MzY2YjUxNy00ZjNhLTQ0NmQtYWRmOC1jNjUxZGMzNjVmMWHYAgXgAgE;sid=d4ca926056a06d88e680aa868f5b5ec5'\n",
    "Extract_comments(my_url,\"ResidenceH\")\n"
   ]
  },
  {
   "cell_type": "markdown",
   "metadata": {},
   "source": [
    "### b. FONCTIONS POUR LE TRAITEMENT STATISTIQUE"
   ]
  },
  {
   "cell_type": "code",
   "execution_count": 1,
   "metadata": {},
   "outputs": [],
   "source": [
    "import numpy as np\n",
    "import matplotlib.pyplot as plt\n",
    "import pandas as pd\n",
    "# Fonction pour déterminer le nombre de commentaire\n",
    "def number_of_comments (dataFrame):# le fichier comportant les données extraites sur l'hôtel(ou l'ensemble des) est importé sous forme de dataframe \"exemple : df_Lilas = pd.read_csv(\"C:\\\\Users\\\\lemec\\\\Desktop\\\\Hotels_scrapping\\\\Residence des Lilas.csv\", sep=\";\")# Residence des Lilas\"\n",
    "    vect_comment = np.array([0])\n",
    "    for n in np.arange(len(dataFrame)):\n",
    "        tip = type(dataFrame.iloc[:,2][n])\n",
    "        if (tip in [float,np.float64]):\n",
    "            vect_comment = np.append(vect_comment,[], axis = 0)\n",
    "        else:\n",
    "            x = len(dataFrame.iloc[:,2][n].split(\"|\"))-1\n",
    "            vect_comment = np.append(vect_comment,[x], axis = 0)\n",
    "    return(sum(vect_comment))\n",
    "# Fonction pour déterminer le nombre de mots utilisés pour le(s) commentaire(s) d'un client\n",
    "def number_of_words_in_the_set_of_client_comments(dataFrame):\n",
    "    length = np.array([])\n",
    "    for n in np.arange(len(dataFrame)):\n",
    "        tip = type(dataFrame.iloc[:,2][n])\n",
    "        if (tip in [float,np.float64]):\n",
    "            length = np.append(length,[0],axis=0)\n",
    "        else:\n",
    "            length = np.append(length,[len(dataFrame.iloc[:,2][n].replace(\",\",\" \").replace(\".\",\" \").replace(\"|\",\" \").split())],axis=0)\n",
    "    #Length = sum(length)\n",
    "    return length # le résultat est un vecteur dont les composantes sont le nombre de mots utilisés par un client pour son(ses) commentaire(s) "
   ]
  },
  {
   "cell_type": "markdown",
   "metadata": {},
   "source": [
    "# II. Traitement des données extraites precedement"
   ]
  },
  {
   "cell_type": "markdown",
   "metadata": {},
   "source": [
    "Ici nous considerons que tous les avis souhaité ont été extrait et stockés dans le fichier \"opinion_hotel.csv\""
   ]
  },
  {
   "cell_type": "code",
   "execution_count": 6,
   "metadata": {},
   "outputs": [],
   "source": [
    "import pandas as pd\n",
    "import numpy as np\n",
    "#opinion_hotel.csv"
   ]
  },
  {
   "cell_type": "code",
   "execution_count": 126,
   "metadata": {},
   "outputs": [],
   "source": [
    "Df_opinion= pd.read_csv('opinion_hotel.csv',sep=\";\")"
   ]
  },
  {
   "cell_type": "code",
   "execution_count": 127,
   "metadata": {},
   "outputs": [
    {
     "name": "stdout",
     "output_type": "stream",
     "text": [
      "<class 'pandas.core.frame.DataFrame'>\n",
      "RangeIndex: 968 entries, 0 to 967\n",
      "Data columns (total 3 columns):\n",
      " #   Column     Non-Null Count  Dtype  \n",
      "---  ------     --------------  -----  \n",
      " 0   note       968 non-null    float64\n",
      " 1    resume    968 non-null    object \n",
      " 2    opinions  805 non-null    object \n",
      "dtypes: float64(1), object(2)\n",
      "memory usage: 22.8+ KB\n"
     ]
    }
   ],
   "source": [
    "Df_opinion.info()"
   ]
  },
  {
   "cell_type": "code",
   "execution_count": 128,
   "metadata": {},
   "outputs": [
    {
     "data": {
      "text/plain": [
       "(968, 3)"
      ]
     },
     "execution_count": 128,
     "metadata": {},
     "output_type": "execute_result"
    }
   ],
   "source": [
    "Df_opinion.shape"
   ]
  },
  {
   "cell_type": "code",
   "execution_count": 129,
   "metadata": {},
   "outputs": [
    {
     "data": {
      "text/html": [
       "<div>\n",
       "<style scoped>\n",
       "    .dataframe tbody tr th:only-of-type {\n",
       "        vertical-align: middle;\n",
       "    }\n",
       "\n",
       "    .dataframe tbody tr th {\n",
       "        vertical-align: top;\n",
       "    }\n",
       "\n",
       "    .dataframe thead th {\n",
       "        text-align: right;\n",
       "    }\n",
       "</style>\n",
       "<table border=\"1\" class=\"dataframe\">\n",
       "  <thead>\n",
       "    <tr style=\"text-align: right;\">\n",
       "      <th></th>\n",
       "      <th>note</th>\n",
       "      <th>resume</th>\n",
       "      <th>opinions</th>\n",
       "    </tr>\n",
       "  </thead>\n",
       "  <tbody>\n",
       "    <tr>\n",
       "      <th>0</th>\n",
       "      <td>10.0</td>\n",
       "      <td>Très bon séjour</td>\n",
       "      <td>Très bel appartement. Personnel très agréable...</td>\n",
       "    </tr>\n",
       "    <tr>\n",
       "      <th>1</th>\n",
       "      <td>10.0</td>\n",
       "      <td>Agréable, apaisant, sans prise de tête</td>\n",
       "      <td>Tout était parfait Je n'ai sincèrement rien à...</td>\n",
       "    </tr>\n",
       "    <tr>\n",
       "      <th>2</th>\n",
       "      <td>10.0</td>\n",
       "      <td>Formidable wow</td>\n",
       "      <td>Rien| Acceuil parfait|</td>\n",
       "    </tr>\n",
       "    <tr>\n",
       "      <th>3</th>\n",
       "      <td>8.0</td>\n",
       "      <td>Tres bien</td>\n",
       "      <td>Plus d ustensiles cuisine| Pas mal et un peu ...</td>\n",
       "    </tr>\n",
       "    <tr>\n",
       "      <th>4</th>\n",
       "      <td>10.0</td>\n",
       "      <td>Beau cadre comfortable à prix intétressant</td>\n",
       "      <td>Quelques indications complémentaires pour loc...</td>\n",
       "    </tr>\n",
       "  </tbody>\n",
       "</table>\n",
       "</div>"
      ],
      "text/plain": [
       "   note                                      resume  \\\n",
       "0  10.0                            Très bon séjour    \n",
       "1  10.0      Agréable, apaisant, sans prise de tête   \n",
       "2  10.0                              Formidable wow   \n",
       "3   8.0                                   Tres bien   \n",
       "4  10.0  Beau cadre comfortable à prix intétressant   \n",
       "\n",
       "                                            opinions  \n",
       "0   Très bel appartement. Personnel très agréable...  \n",
       "1   Tout était parfait Je n'ai sincèrement rien à...  \n",
       "2                             Rien| Acceuil parfait|  \n",
       "3   Plus d ustensiles cuisine| Pas mal et un peu ...  \n",
       "4   Quelques indications complémentaires pour loc...  "
      ]
     },
     "execution_count": 129,
     "metadata": {},
     "output_type": "execute_result"
    }
   ],
   "source": [
    "Df_opinion.head()"
   ]
  },
  {
   "cell_type": "code",
   "execution_count": 130,
   "metadata": {},
   "outputs": [
    {
     "data": {
      "text/plain": [
       "1398.0"
      ]
     },
     "execution_count": 130,
     "metadata": {},
     "output_type": "execute_result"
    }
   ],
   "source": [
    "number_of_comments(Df_opinion)"
   ]
  },
  {
   "cell_type": "markdown",
   "metadata": {},
   "source": [
    "## 1. Polarisation des opinions."
   ]
  },
  {
   "cell_type": "code",
   "execution_count": null,
   "metadata": {},
   "outputs": [],
   "source": [
    "Qualification=[\"Non recommandable\",\"Acceptable\",\"Recommandable\"]#<3, [3,5[ et 5>"
   ]
  },
  {
   "cell_type": "code",
   "execution_count": 120,
   "metadata": {
    "scrolled": true
   },
   "outputs": [
    {
     "data": {
      "text/plain": [
       "'Recommandable'"
      ]
     },
     "execution_count": 120,
     "metadata": {},
     "output_type": "execute_result"
    }
   ],
   "source": [
    "def class_note(x):\n",
    "    if(x<3):\n",
    "       return \"Non recommandable\"\n",
    "    if (x>=5 and x<=10):\n",
    "        return  \"Recommandable\"\n",
    "    elif (x>3 and x<5):\n",
    "        return \"Acceptable\"\n",
    "\n",
    "class_note(10)"
   ]
  },
  {
   "cell_type": "code",
   "execution_count": 131,
   "metadata": {},
   "outputs": [],
   "source": [
    "Df_opinion['Apreciations']= Df_opinion['note'].apply(lambda x: class_note(x))"
   ]
  },
  {
   "cell_type": "code",
   "execution_count": 133,
   "metadata": {
    "scrolled": false
   },
   "outputs": [
    {
     "data": {
      "text/html": [
       "<div>\n",
       "<style scoped>\n",
       "    .dataframe tbody tr th:only-of-type {\n",
       "        vertical-align: middle;\n",
       "    }\n",
       "\n",
       "    .dataframe tbody tr th {\n",
       "        vertical-align: top;\n",
       "    }\n",
       "\n",
       "    .dataframe thead th {\n",
       "        text-align: right;\n",
       "    }\n",
       "</style>\n",
       "<table border=\"1\" class=\"dataframe\">\n",
       "  <thead>\n",
       "    <tr style=\"text-align: right;\">\n",
       "      <th></th>\n",
       "      <th>note</th>\n",
       "      <th>resume</th>\n",
       "      <th>opinions</th>\n",
       "      <th>Apreciations</th>\n",
       "    </tr>\n",
       "  </thead>\n",
       "  <tbody>\n",
       "    <tr>\n",
       "      <th>0</th>\n",
       "      <td>10.0</td>\n",
       "      <td>Très bon séjour</td>\n",
       "      <td>Très bel appartement. Personnel très agréable...</td>\n",
       "      <td>Recommandable</td>\n",
       "    </tr>\n",
       "    <tr>\n",
       "      <th>1</th>\n",
       "      <td>10.0</td>\n",
       "      <td>Agréable, apaisant, sans prise de tête</td>\n",
       "      <td>Tout était parfait Je n'ai sincèrement rien à...</td>\n",
       "      <td>Recommandable</td>\n",
       "    </tr>\n",
       "    <tr>\n",
       "      <th>2</th>\n",
       "      <td>10.0</td>\n",
       "      <td>Formidable wow</td>\n",
       "      <td>Rien| Acceuil parfait|</td>\n",
       "      <td>Recommandable</td>\n",
       "    </tr>\n",
       "    <tr>\n",
       "      <th>3</th>\n",
       "      <td>8.0</td>\n",
       "      <td>Tres bien</td>\n",
       "      <td>Plus d ustensiles cuisine| Pas mal et un peu ...</td>\n",
       "      <td>Recommandable</td>\n",
       "    </tr>\n",
       "    <tr>\n",
       "      <th>4</th>\n",
       "      <td>10.0</td>\n",
       "      <td>Beau cadre comfortable à prix intétressant</td>\n",
       "      <td>Quelques indications complémentaires pour loc...</td>\n",
       "      <td>Recommandable</td>\n",
       "    </tr>\n",
       "    <tr>\n",
       "      <th>5</th>\n",
       "      <td>9.0</td>\n",
       "      <td>excellent</td>\n",
       "      <td>Le wifi qui se deconnectait très souvent| tou...</td>\n",
       "      <td>Recommandable</td>\n",
       "    </tr>\n",
       "    <tr>\n",
       "      <th>6</th>\n",
       "      <td>10.0</td>\n",
       "      <td>Le top des hébergements depuis mes fréquents s...</td>\n",
       "      <td>Propriétaire disponible et très accueillante ...</td>\n",
       "      <td>Recommandable</td>\n",
       "    </tr>\n",
       "    <tr>\n",
       "      <th>7</th>\n",
       "      <td>10.0</td>\n",
       "      <td>Exceptionnel</td>\n",
       "      <td>Tout était pas parfait on aurai dit une ile p...</td>\n",
       "      <td>Recommandable</td>\n",
       "    </tr>\n",
       "    <tr>\n",
       "      <th>8</th>\n",
       "      <td>8.0</td>\n",
       "      <td>Tres bien</td>\n",
       "      <td>Le wifi était trop nul voir inexistant| Top l...</td>\n",
       "      <td>Recommandable</td>\n",
       "    </tr>\n",
       "    <tr>\n",
       "      <th>9</th>\n",
       "      <td>9.0</td>\n",
       "      <td>Parfaite</td>\n",
       "      <td>Rien| La totale  De l'accueil à la sortie|</td>\n",
       "      <td>Recommandable</td>\n",
       "    </tr>\n",
       "    <tr>\n",
       "      <th>10</th>\n",
       "      <td>10.0</td>\n",
       "      <td>Exceptionnel</td>\n",
       "      <td>RAS| Tout c'est très bien passé durant notre ...</td>\n",
       "      <td>Recommandable</td>\n",
       "    </tr>\n",
       "    <tr>\n",
       "      <th>11</th>\n",
       "      <td>9.0</td>\n",
       "      <td>Fabuleux</td>\n",
       "      <td>Wifi très faible | Propreté et excellent serv...</td>\n",
       "      <td>Recommandable</td>\n",
       "    </tr>\n",
       "    <tr>\n",
       "      <th>12</th>\n",
       "      <td>9.0</td>\n",
       "      <td>Fabuleux</td>\n",
       "      <td>Top|</td>\n",
       "      <td>Recommandable</td>\n",
       "    </tr>\n",
       "  </tbody>\n",
       "</table>\n",
       "</div>"
      ],
      "text/plain": [
       "    note                                             resume  \\\n",
       "0   10.0                                   Très bon séjour    \n",
       "1   10.0             Agréable, apaisant, sans prise de tête   \n",
       "2   10.0                                     Formidable wow   \n",
       "3    8.0                                          Tres bien   \n",
       "4   10.0         Beau cadre comfortable à prix intétressant   \n",
       "5    9.0                                          excellent   \n",
       "6   10.0  Le top des hébergements depuis mes fréquents s...   \n",
       "7   10.0                                      Exceptionnel    \n",
       "8    8.0                                          Tres bien   \n",
       "9    9.0                                           Parfaite   \n",
       "10  10.0                                      Exceptionnel    \n",
       "11   9.0                                         Fabuleux     \n",
       "12   9.0                                         Fabuleux     \n",
       "\n",
       "                                             opinions   Apreciations  \n",
       "0    Très bel appartement. Personnel très agréable...  Recommandable  \n",
       "1    Tout était parfait Je n'ai sincèrement rien à...  Recommandable  \n",
       "2                              Rien| Acceuil parfait|  Recommandable  \n",
       "3    Plus d ustensiles cuisine| Pas mal et un peu ...  Recommandable  \n",
       "4    Quelques indications complémentaires pour loc...  Recommandable  \n",
       "5    Le wifi qui se deconnectait très souvent| tou...  Recommandable  \n",
       "6    Propriétaire disponible et très accueillante ...  Recommandable  \n",
       "7    Tout était pas parfait on aurai dit une ile p...  Recommandable  \n",
       "8    Le wifi était trop nul voir inexistant| Top l...  Recommandable  \n",
       "9          Rien| La totale  De l'accueil à la sortie|  Recommandable  \n",
       "10   RAS| Tout c'est très bien passé durant notre ...  Recommandable  \n",
       "11   Wifi très faible | Propreté et excellent serv...  Recommandable  \n",
       "12                                               Top|  Recommandable  "
      ]
     },
     "execution_count": 133,
     "metadata": {},
     "output_type": "execute_result"
    }
   ],
   "source": [
    "Df_opinion.head(13)"
   ]
  },
  {
   "cell_type": "markdown",
   "metadata": {},
   "source": [
    "## 2. Stockage"
   ]
  },
  {
   "cell_type": "markdown",
   "metadata": {},
   "source": [
    "Nous allons creer une base de données sur mongo afin de stocker les textes étiquetés"
   ]
  },
  {
   "cell_type": "code",
   "execution_count": 138,
   "metadata": {},
   "outputs": [],
   "source": [
    "def Stock_Avis(Df_opinion):\n",
    "    \n",
    "    import pymongo\n",
    "    from pymongo import MongoClient\n",
    "\n",
    "#client=MongoClient(port=27017)\n",
    "#db= client.Avis_client\n",
    "    myclient = MongoClient('mongodb://localhost:27017/')\n",
    "    mydb = myclient['Avis_client']\n",
    "    mycollection = mydb[\"Avis_etiquete\"]\n",
    "\n",
    "    mydb.mycollection.insert_many(Df_opinion)\n",
    "    "
   ]
  },
  {
   "cell_type": "markdown",
   "metadata": {},
   "source": [
    "Sauvegarde dans un fichier csv"
   ]
  },
  {
   "cell_type": "code",
   "execution_count": 140,
   "metadata": {},
   "outputs": [],
   "source": [
    "Df_opinion.to_csv('Opinion_Etiquete.csv', index=False)"
   ]
  },
  {
   "cell_type": "markdown",
   "metadata": {},
   "source": [
    "## 3. Analyse\n"
   ]
  },
  {
   "cell_type": "markdown",
   "metadata": {},
   "source": [
    "Nous utiliserons l’approche BOW (sac de mots) pour représenter ces textes et utiliser les\n",
    "modèles de machine learning du package scikit-learn pour construire les modèles\n",
    "permettant de prédire les notes en fonction des opinions données par les utilisateurs."
   ]
  },
  {
   "cell_type": "code",
   "execution_count": null,
   "metadata": {},
   "outputs": [],
   "source": []
  }
 ],
 "metadata": {
  "kernelspec": {
   "display_name": "Python 3",
   "language": "python",
   "name": "python3"
  },
  "language_info": {
   "codemirror_mode": {
    "name": "ipython",
    "version": 3
   },
   "file_extension": ".py",
   "mimetype": "text/x-python",
   "name": "python",
   "nbconvert_exporter": "python",
   "pygments_lexer": "ipython3",
   "version": "3.8.8"
  }
 },
 "nbformat": 4,
 "nbformat_minor": 4
}
