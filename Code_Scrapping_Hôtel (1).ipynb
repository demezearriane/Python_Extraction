{
 "cells": [
  {
   "cell_type": "markdown",
   "metadata": {},
   "source": [
    "# My Scrapping"
   ]
  },
  {
   "cell_type": "code",
   "execution_count": 4,
   "metadata": {},
   "outputs": [],
   "source": [
    "from urllib.request import urlopen as uReq\n",
    "import bs4\n",
    "from bs4 import BeautifulSoup as soup"
   ]
  },
  {
   "cell_type": "code",
   "execution_count": 7,
   "metadata": {},
   "outputs": [],
   "source": [
    "# Hotel  (charger les url des autres pages d'hôtels...)\n",
    "my_url = 'https://www.booking.com/reviews/cm/hotel/residence-h.fr.html?label=gen173nr-1FCCooMEIHeWFvdW5kZUgNWARoMIgBAZgBDbgBF8gBDNgBAegBAfgBAogCAagCA7gC4e6_hAbAAgHSAiQ4MzY2YjUxNy00ZjNhLTQ0NmQtYWRmOC1jNjUxZGMzNjVmMWHYAgXgAgE;sid=d4ca926056a06d88e680aa868f5b5ec5'"
   ]
  },
  {
   "cell_type": "code",
   "execution_count": 8,
   "metadata": {},
   "outputs": [
    {
     "data": {
      "text/plain": [
       "27"
      ]
     },
     "execution_count": 8,
     "metadata": {},
     "output_type": "execute_result"
    }
   ],
   "source": [
    "uClient = uReq(my_url)     # ouverture de la connexion\n",
    "page_html = uClient.read()  # Saisie/accaparemment de la page html\n",
    "page_soup = soup(page_html,\"html.parser\") # html parsing (analyse de la page html)\n",
    "containers = page_soup.find_all(\"div\",{\"class\":\"review_item_review_container lang_ltr\"}) #recherche de tous les div dont la classe est... (utiliser sublime text pour une meilleure visualisation du code html de la page)\n",
    "filename = \"project_scrapping.csv\" #création du fichier qui va contenir les informations qui seront extraites\n",
    "f = open(filename,\"w\",encoding=\"UTF-8\") #ouverture du fichier\n",
    "headers = \"note; resume; commentaires\\n\" #entête du fichier\n",
    "f.write(headers)"
   ]
  },
  {
   "cell_type": "code",
   "execution_count": 9,
   "metadata": {},
   "outputs": [
    {
     "name": "stdout",
     "output_type": "stream",
     "text": [
      "note: 8.0;\n",
      "resume:  Très bien ;\n",
      "Commentaire: Les coupures  d'électricité \n",
      "Commentaire: Le personnel est très accueillant et très sympathique \n",
      "note: 8.0;\n",
      "resume: Confortable et gentillesse du personnelle;\n",
      "Commentaire: Pas de wifi. \n",
      "Commentaire: Emplacement et le calme et la gentillesse et acceuil du personnel\n",
      "note: 9.0;\n",
      "resume: Magnifique....;\n",
      "Commentaire: RAS\n",
      "Commentaire: L'accueil, l'hygiène et le cadre de logement proposé.\n",
      "note: 8.0;\n",
      "resume: c'était\" perfect.\";\n",
      "Commentaire: les chaines du cable n étais pas accessibles, mais j accorde un bénéfice du doute parce qu il y avait TMC.\n",
      "Commentaire: j'ai dormie comme un ange. le lit est super confortable. la cuisine m a tellement plu que j en vuex une chez moi/ et le design de la maison, une harmonie sans pareil. j ai eu à visiter et à séjourner dans des coins mais celui-ci m'a grave ravi.\n",
      "note: 7.0;\n",
      "resume:  Bien  ;\n",
      "Commentaire: pourrais mieux faire, problème d'évacuation de l 'eau de douche…. propreté à revoir.\n",
      "note: 9.0;\n",
      "resume:  Fabuleux  ;\n",
      "Commentaire: RAS\n",
      "Commentaire: J'ai aimé le personnel très accueillant  et toujours disponible \n",
      "note: 7.1;\n",
      "resume: Agréable!;\n",
      "Commentaire: Mettre un groupe électrogène\n",
      "Commentaire: L'appartement était loin, le repas n'était pas inclus.\n",
      "note: 8.8;\n",
      "resume:  Très bien ;\n",
      "Commentaire: La gérante est vraiment sympa et de contact agréable. On se sent très vite à l'aise car bien accueilli. En plus, elle est toujours disponible pour le moindre service dont on a besoin. \n",
      "note: 7.1;\n",
      "resume: tout etait bien en principe,sauf qu'il faudrait penser à incorporer la connexion canal dans le prix;\n",
      "Commentaire: le manque d'images de télévision.\n",
      "note: 8.0;\n",
      "resume: Premier séjour résidence H;\n",
      "Commentaire: L'accueil et l'installation..ça pris un peu de temps ...aussi le parking un peu limite limite \n",
      "Commentaire: Le confort ....la propreté..les installations \n",
      "note: 9.2;\n",
      "resume:  Fabuleux  ;\n"
     ]
    }
   ],
   "source": [
    "for container in containers:\n",
    "    note = container.span.span.text.strip().replace(',','.') #récupération de la note\n",
    "    comments = container.findAll(\"span\",{\"itemprop\":\"reviewBody\"})# \"dictionnaire\" de commentaires \n",
    "    resume = container.findAll(\"span\",{\"itemprop\":\"name\"}) #récupération du résumé\n",
    "    print(\"note: \" + note + ';' )\n",
    "    print(\"resume: \" + resume[0].text.replace('\\n',' ') + ';')\n",
    "    if (len(comments)==0):\n",
    "        f.write('\\n' + note + ';' + resume[0].text.replace('\\n',' ') + ';' + '\\n')\n",
    "    else:\n",
    "        f.write('\\n' + note + ';' + resume[0].text.replace('\\n',' ') + ';')\n",
    "    for comment in comments:# Il peut y avoir plusieurs commentaires\n",
    "        Commentaire = comment.text.replace('\\r',' ').replace('\\n',' ').replace(';',',')\n",
    "        print(\"Commentaire: \" + Commentaire)\n",
    "        f.write( ' ' + Commentaire + \"|\")\n",
    "f.close() #fermeture du fichier"
   ]
  },
  {
   "cell_type": "markdown",
   "metadata": {},
   "source": [
    "# Great Job\n",
    "## Continue..."
   ]
  },
  {
   "cell_type": "code",
   "execution_count": null,
   "metadata": {},
   "outputs": [],
   "source": []
  }
 ],
 "metadata": {
  "kernelspec": {
   "display_name": "Python 3",
   "language": "python",
   "name": "python3"
  },
  "language_info": {
   "codemirror_mode": {
    "name": "ipython",
    "version": 3
   },
   "file_extension": ".py",
   "mimetype": "text/x-python",
   "name": "python",
   "nbconvert_exporter": "python",
   "pygments_lexer": "ipython3",
   "version": "3.8.8"
  }
 },
 "nbformat": 4,
 "nbformat_minor": 4
}
